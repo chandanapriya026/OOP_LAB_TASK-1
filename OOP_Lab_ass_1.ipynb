{
  "nbformat": 4,
  "nbformat_minor": 0,
  "metadata": {
    "colab": {
      "name": "OOP_Lab_ass-1.ipynb",
      "provenance": [],
      "collapsed_sections": []
    },
    "kernelspec": {
      "name": "python3",
      "display_name": "Python 3"
    },
    "language_info": {
      "name": "python"
    }
  },
  "cells": [
    {
      "cell_type": "code",
      "metadata": {
        "colab": {
          "base_uri": "https://localhost:8080/"
        },
        "id": "8pHlWingQKV3",
        "outputId": "8f0b1208-5805-461c-c25b-4f8d12619744"
      },
      "source": [
        "def check_leap(year):\n",
        "    check = False\n",
        "    \n",
        "    if year % 4 == 0:\n",
        "        if year % 100 != 0:\n",
        "            check = True\n",
        "\n",
        "        elif year % 400 == 0:\n",
        "                check = True\n",
        "    \n",
        "    return check \n",
        "\n",
        "year = int(input())\n",
        "print(check_leap(year))"
      ],
      "execution_count": null,
      "outputs": [
        {
          "output_type": "stream",
          "name": "stdout",
          "text": [
            "1900\n",
            "False\n"
          ]
        }
      ]
    },
    {
      "cell_type": "code",
      "metadata": {
        "colab": {
          "base_uri": "https://localhost:8080/"
        },
        "id": "8jI8-77NRtcB",
        "outputId": "136e164f-8bb2-418a-d066-1b6c86c017e8"
      },
      "source": [
        "n = int(input())\n",
        "if(n%2 !=0):\n",
        "  print(\"Weird\")\n",
        "elif(n%2 == 0 and 2<=n<=5):\n",
        "  print(\"Not Weird\")\n",
        "elif(n%2 == 0 and 6<=n<=20):\n",
        "  print(\"Weird\")\n",
        "elif(n%2 == 0 and n>20):\n",
        "  print(\"Not Weird\")"
      ],
      "execution_count": null,
      "outputs": [
        {
          "output_type": "stream",
          "name": "stdout",
          "text": [
            "26\n",
            "Not Weird\n"
          ]
        }
      ]
    },
    {
      "cell_type": "code",
      "metadata": {
        "id": "fzoIQiW_VTC6",
        "colab": {
          "base_uri": "https://localhost:8080/"
        },
        "outputId": "df5d48b0-b5ae-444c-9df5-a9cec0a229d4"
      },
      "source": [
        "def fashionably_late(Arrivals, person):\n",
        "\n",
        "    person_index=Arrivals.index(person)\n",
        "    final_index_of_list= (len(Arrivals)-1)\n",
        "    if final_index_of_list%2==0:\n",
        "      if person_index>=(final_index_of_list/2) and person_index != final_index_of_list:\n",
        "        print(\"The person is fashionably late.\")\n",
        "      else:\n",
        "        print(\"The person is not fashionably late.\")\n",
        "\n",
        "    elif final_index_of_list%2>0:\n",
        "      if (person_index>=((final_index_of_list//2)+1) and person_index != final_index_of_list):\n",
        "        print(\"The person is fashionably late.\")\n",
        "      else:\n",
        "        print(\"The person is not fashionably late.\")\n",
        "\n",
        "Arrivals = ['Hardik','Rahul','Virat','Rishabh','Mani','Rohit','Rahane']\n",
        "fashionably_late(Arrivals, 'Rishabh')"
      ],
      "execution_count": null,
      "outputs": [
        {
          "output_type": "stream",
          "name": "stdout",
          "text": [
            "The person is fashionably late.\n"
          ]
        }
      ]
    },
    {
      "cell_type": "code",
      "metadata": {
        "colab": {
          "base_uri": "https://localhost:8080/"
        },
        "id": "l2vmsUtzc992",
        "outputId": "98a48fa9-fe37-4f9c-b097-a8dc4ebacdb9"
      },
      "source": [
        "def word_check(title_list, keyword):\n",
        "    keyword = keyword.lower().strip('.,')       # make lowercase and remove punctuation\n",
        "\n",
        "    result_list = []\n",
        "    # i is index of the doc_list\n",
        "    for i, title in enumerate(title_list):\n",
        "        # make lowercase and remove punctuation, then split into words\n",
        "        words = title.lower().strip('.,').split()\n",
        "\n",
        "        if keyword in words:\n",
        "            result_list.append((i, title))\n",
        "\n",
        "    return result_list\n",
        "\n",
        "if __name__ == '__main__':\n",
        "    doc_list = ['The Learn Python Challenge Rohit','They bought a car','bangalore']\n",
        "    print(doc_list)\n",
        "    print(\"Enter the word that to be found.\")\n",
        "    w = str(input())\n",
        "\n",
        "    print(word_check(doc_list, w))"
      ],
      "execution_count": 5,
      "outputs": [
        {
          "output_type": "stream",
          "name": "stdout",
          "text": [
            "['The Learn Python Challenge Rohit', 'They bought a car', 'bangalore']\n",
            "Enter the word that to be found.\n",
            "python\n",
            "[(0, 'The Learn Python Challenge Rohit')]\n"
          ]
        }
      ]
    },
    {
      "cell_type": "code",
      "metadata": {
        "colab": {
          "base_uri": "https://localhost:8080/"
        },
        "id": "pfj1F_Lo67Fm",
        "outputId": "4a6ce189-bf1f-439a-b482-a10f69506301"
      },
      "source": [
        "def Gross_Pay(BP):\n",
        "  DA = (40/100)*BP\n",
        "  HRA = (20/100)*BP\n",
        "  GP = BP + DA + HRA\n",
        "  print(\"The gross pay of the employee is \",GP)\n",
        "\n",
        "Basic_pay= float(input())\n",
        "Gross_Pay(Basic_pay)"
      ],
      "execution_count": 11,
      "outputs": [
        {
          "output_type": "stream",
          "name": "stdout",
          "text": [
            "100000\n",
            "The gross pay of the employee is  160000.0\n"
          ]
        }
      ]
    }
  ]
}